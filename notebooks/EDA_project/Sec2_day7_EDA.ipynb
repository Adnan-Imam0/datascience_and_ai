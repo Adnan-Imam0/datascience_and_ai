{
  "nbformat": 4,
  "nbformat_minor": 0,
  "metadata": {
    "colab": {
      "provenance": [],
      "authorship_tag": "ABX9TyMn/gwD+MvJRJV5KjjLIaYc",
      "include_colab_link": true
    },
    "kernelspec": {
      "name": "python3",
      "display_name": "Python 3"
    },
    "language_info": {
      "name": "python"
    }
  },
  "cells": [
    {
      "cell_type": "markdown",
      "metadata": {
        "id": "view-in-github",
        "colab_type": "text"
      },
      "source": [
        "<a href=\"https://colab.research.google.com/github/Adnan-Imam0/datascience_and_ai/blob/main/notebooks/EDA_project/Sec2_day7_EDA.ipynb\" target=\"_parent\"><img src=\"https://colab.research.google.com/assets/colab-badge.svg\" alt=\"Open In Colab\"/></a>"
      ]
    },
    {
      "cell_type": "markdown",
      "source": [
        "# What is EDA\n"
      ],
      "metadata": {
        "id": "cxakCw-CwunP"
      }
    },
    {
      "cell_type": "markdown",
      "source": [
        "#### Exploratory Data Analysis involves summarizing to uncover patterns, relationships and insights"
      ],
      "metadata": {
        "id": "tU9eW2-1w9cm"
      }
    },
    {
      "cell_type": "markdown",
      "source": [
        "## Steps in EDA"
      ],
      "metadata": {
        "id": "cIKIX3_HxVau"
      }
    },
    {
      "cell_type": "markdown",
      "source": [
        "### Data Cleaning"
      ],
      "metadata": {
        "id": "FQQOJh7gxbIr"
      }
    },
    {
      "cell_type": "markdown",
      "source": [
        "### Data Transformation"
      ],
      "metadata": {
        "id": "ZX4hUUPYxfNa"
      }
    },
    {
      "cell_type": "markdown",
      "source": [
        "### Aggregation and filtering"
      ],
      "metadata": {
        "id": "J4AR9CCmxrLS"
      }
    },
    {
      "cell_type": "markdown",
      "source": [
        "## Identifying Patterns, Trends and Correlations:"
      ],
      "metadata": {
        "id": "D4H6cvyMx24a"
      }
    },
    {
      "cell_type": "markdown",
      "source": [
        "### Some Visual Tools:"
      ],
      "metadata": {
        "id": "YzvT6SCnyD9c"
      }
    },
    {
      "cell_type": "markdown",
      "source": [
        "#### Line plots for trends over Time"
      ],
      "metadata": {
        "id": "bG5uUspGyQZ9"
      }
    },
    {
      "cell_type": "markdown",
      "source": [
        "#### Bar charts for categorical Comparisons"
      ],
      "metadata": {
        "id": "PigZU55-yXlW"
      }
    },
    {
      "cell_type": "markdown",
      "source": [
        "#### Scatter plots for Relationships"
      ],
      "metadata": {
        "id": "l0NOyw8pyfK7"
      }
    },
    {
      "cell_type": "markdown",
      "source": [
        "#### HeatMap for Correlation analysis"
      ],
      "metadata": {
        "id": "yeR-xg_1yomu"
      }
    },
    {
      "cell_type": "markdown",
      "source": [
        "### key patterns to Look for:"
      ],
      "metadata": {
        "id": "IexawhuZyzQg"
      }
    },
    {
      "cell_type": "markdown",
      "source": [
        "#### Relationships between variables(correlations)"
      ],
      "metadata": {
        "id": "9Q6mhawUzGKA"
      }
    },
    {
      "cell_type": "markdown",
      "source": [
        "#### Distribution of Variables (Histograms, boxplots)"
      ],
      "metadata": {
        "id": "PLwL0WOlzPZ9"
      }
    },
    {
      "cell_type": "markdown",
      "source": [
        "#### Outliers or anomalies"
      ],
      "metadata": {
        "id": "6hFdaig5zZ-u"
      }
    },
    {
      "cell_type": "markdown",
      "source": [
        "## Summary statistics, Visual Insights, and Hypothesis generation"
      ],
      "metadata": {
        "id": "yBdQ5IIbzmae"
      }
    },
    {
      "cell_type": "markdown",
      "source": [
        "### Summary Statistics"
      ],
      "metadata": {
        "id": "iBhshhT1z0b2"
      }
    },
    {
      "cell_type": "markdown",
      "source": [
        "### Hypothesis Generation"
      ],
      "metadata": {
        "id": "lvs5ovDJz8a1"
      }
    },
    {
      "cell_type": "markdown",
      "source": [
        "## PROJECT On Sample Dataset"
      ],
      "metadata": {
        "id": "qHX7gW1x0ZkO"
      }
    },
    {
      "cell_type": "markdown",
      "source": [
        "### Task1: Perform Data Cleaning, Aggregation, and Filtering"
      ],
      "metadata": {
        "id": "Jj0x5PkQ0f-l"
      }
    },
    {
      "cell_type": "code",
      "source": [
        "import pandas as pd\n",
        "import seaborn as sns"
      ],
      "metadata": {
        "id": "Ter4oAd3y3nK"
      },
      "execution_count": 2,
      "outputs": []
    },
    {
      "cell_type": "code",
      "source": [
        "#load Dataset\n",
        "df = sns.load_dataset('titanic')"
      ],
      "metadata": {
        "id": "2eOdTbLc08V2"
      },
      "execution_count": 3,
      "outputs": []
    },
    {
      "cell_type": "code",
      "source": [
        "# Inpect Data\n",
        "print(df.info())"
      ],
      "metadata": {
        "colab": {
          "base_uri": "https://localhost:8080/"
        },
        "id": "HBHju_xR1Kfv",
        "outputId": "0016c71c-7ee5-4bb2-8161-e53f685e480d"
      },
      "execution_count": 4,
      "outputs": [
        {
          "output_type": "stream",
          "name": "stdout",
          "text": [
            "<class 'pandas.core.frame.DataFrame'>\n",
            "RangeIndex: 891 entries, 0 to 890\n",
            "Data columns (total 15 columns):\n",
            " #   Column       Non-Null Count  Dtype   \n",
            "---  ------       --------------  -----   \n",
            " 0   survived     891 non-null    int64   \n",
            " 1   pclass       891 non-null    int64   \n",
            " 2   sex          891 non-null    object  \n",
            " 3   age          714 non-null    float64 \n",
            " 4   sibsp        891 non-null    int64   \n",
            " 5   parch        891 non-null    int64   \n",
            " 6   fare         891 non-null    float64 \n",
            " 7   embarked     889 non-null    object  \n",
            " 8   class        891 non-null    category\n",
            " 9   who          891 non-null    object  \n",
            " 10  adult_male   891 non-null    bool    \n",
            " 11  deck         203 non-null    category\n",
            " 12  embark_town  889 non-null    object  \n",
            " 13  alive        891 non-null    object  \n",
            " 14  alone        891 non-null    bool    \n",
            "dtypes: bool(2), category(2), float64(2), int64(4), object(5)\n",
            "memory usage: 80.7+ KB\n",
            "None\n"
          ]
        }
      ]
    },
    {
      "cell_type": "code",
      "source": [
        "# Some Statistic\n",
        "print(df.describe())"
      ],
      "metadata": {
        "colab": {
          "base_uri": "https://localhost:8080/"
        },
        "id": "6ErC_9SK1RYc",
        "outputId": "7c5d9a57-6fa5-4b7d-a572-8bf78fdb4950"
      },
      "execution_count": 5,
      "outputs": [
        {
          "output_type": "stream",
          "name": "stdout",
          "text": [
            "         survived      pclass         age       sibsp       parch        fare\n",
            "count  891.000000  891.000000  714.000000  891.000000  891.000000  891.000000\n",
            "mean     0.383838    2.308642   29.699118    0.523008    0.381594   32.204208\n",
            "std      0.486592    0.836071   14.526497    1.102743    0.806057   49.693429\n",
            "min      0.000000    1.000000    0.420000    0.000000    0.000000    0.000000\n",
            "25%      0.000000    2.000000   20.125000    0.000000    0.000000    7.910400\n",
            "50%      0.000000    3.000000   28.000000    0.000000    0.000000   14.454200\n",
            "75%      1.000000    3.000000   38.000000    1.000000    0.000000   31.000000\n",
            "max      1.000000    3.000000   80.000000    8.000000    6.000000  512.329200\n"
          ]
        }
      ]
    },
    {
      "cell_type": "code",
      "source": [
        "# Handling Missing Values\n",
        "# fill missing value with median for age column\n",
        "df[\"age\"] = df[\"age\"].fillna(df[\"age\"].median())\n",
        "\n",
        "\n",
        "# fill missing values with mode for embarked column\n",
        "df[\"embarked\"] = df[\"embarked\"].fillna(df[\"embarked\"].mode()[0])\n",
        "\n",
        "# Remove Duplicates\n",
        "df = df.drop_duplicates()\n",
        "\n"
      ],
      "metadata": {
        "id": "esK-iP3C1fTd"
      },
      "execution_count": 8,
      "outputs": []
    },
    {
      "cell_type": "code",
      "source": [
        "print(df.info())"
      ],
      "metadata": {
        "colab": {
          "base_uri": "https://localhost:8080/"
        },
        "id": "tqF_CLBn39h_",
        "outputId": "0cd1199d-764c-46f7-aa46-5accb9b64b5a"
      },
      "execution_count": 9,
      "outputs": [
        {
          "output_type": "stream",
          "name": "stdout",
          "text": [
            "<class 'pandas.core.frame.DataFrame'>\n",
            "Index: 781 entries, 0 to 890\n",
            "Data columns (total 15 columns):\n",
            " #   Column       Non-Null Count  Dtype   \n",
            "---  ------       --------------  -----   \n",
            " 0   survived     781 non-null    int64   \n",
            " 1   pclass       781 non-null    int64   \n",
            " 2   sex          781 non-null    object  \n",
            " 3   age          781 non-null    float64 \n",
            " 4   sibsp        781 non-null    int64   \n",
            " 5   parch        781 non-null    int64   \n",
            " 6   fare         781 non-null    float64 \n",
            " 7   embarked     781 non-null    object  \n",
            " 8   class        781 non-null    category\n",
            " 9   who          781 non-null    object  \n",
            " 10  adult_male   781 non-null    bool    \n",
            " 11  deck         202 non-null    category\n",
            " 12  embark_town  779 non-null    object  \n",
            " 13  alive        781 non-null    object  \n",
            " 14  alone        781 non-null    bool    \n",
            "dtypes: bool(2), category(2), float64(2), int64(4), object(5)\n",
            "memory usage: 76.7+ KB\n",
            "None\n"
          ]
        }
      ]
    },
    {
      "cell_type": "code",
      "source": [
        "# filter Data: Passengers in first class\n",
        "first_class = df[df[\"pclass\"]==1]\n",
        "print(\"First Class Passengers: \\n\", first_class.head())"
      ],
      "metadata": {
        "colab": {
          "base_uri": "https://localhost:8080/"
        },
        "id": "-Rvbl4oV1xTE",
        "outputId": "ffa68424-d772-4fbe-d76c-a67363404b60"
      },
      "execution_count": 11,
      "outputs": [
        {
          "output_type": "stream",
          "name": "stdout",
          "text": [
            "First Class Passengers: \n",
            "     survived  pclass     sex   age  sibsp  parch     fare embarked  class  \\\n",
            "1          1       1  female  38.0      1      0  71.2833        C  First   \n",
            "3          1       1  female  35.0      1      0  53.1000        S  First   \n",
            "6          0       1    male  54.0      0      0  51.8625        S  First   \n",
            "11         1       1  female  58.0      0      0  26.5500        S  First   \n",
            "23         1       1    male  28.0      0      0  35.5000        S  First   \n",
            "\n",
            "      who  adult_male deck  embark_town alive  alone  \n",
            "1   woman       False    C    Cherbourg   yes  False  \n",
            "3   woman       False    C  Southampton   yes  False  \n",
            "6     man        True    E  Southampton    no   True  \n",
            "11  woman       False    C  Southampton   yes   True  \n",
            "23    man        True    A  Southampton   yes   True  \n"
          ]
        }
      ]
    },
    {
      "cell_type": "markdown",
      "source": [
        "### Task2: Generate Visualizations to illustrate key Insights"
      ],
      "metadata": {
        "id": "6W2awqlB4fPX"
      }
    },
    {
      "cell_type": "code",
      "source": [
        "import matplotlib.pyplot as plt\n"
      ],
      "metadata": {
        "id": "SMDc9urM4Iv_"
      },
      "execution_count": 12,
      "outputs": []
    },
    {
      "cell_type": "code",
      "source": [
        "# Bar Chart: Survival rate by Class"
      ],
      "metadata": {
        "id": "J4AVjEke43Li"
      },
      "execution_count": 13,
      "outputs": []
    },
    {
      "cell_type": "code",
      "source": [
        "survival_by_class = df.groupby(\"pclass\")[\"survived\"].mean()\n",
        "survival_by_class.plot(kind=\"bar\", color = \"skyblue\")\n",
        "plt.xlabel(\"Passenger Class\")\n",
        "plt.ylabel(\"Survival Rate\")\n",
        "plt.title(\"Survival Rate by Passenger Class\")\n",
        "plt.show()"
      ],
      "metadata": {
        "colab": {
          "base_uri": "https://localhost:8080/",
          "height": 467
        },
        "id": "vHspn7pW5BS6",
        "outputId": "e3bd3a78-381a-4273-e575-aa9f7e6fce47"
      },
      "execution_count": 14,
      "outputs": [
        {
          "output_type": "display_data",
          "data": {
            "text/plain": [
              "<Figure size 640x480 with 1 Axes>"
            ],
            "image/png": "[encoded data removed]"
          },
          "metadata": {}
        }
      ]
    },
    {
      "cell_type": "code",
      "source": [
        "# Histogram: Age Distribution\n"
      ],
      "metadata": {
        "id": "u4lXXHEh5zrV"
      },
      "execution_count": 15,
      "outputs": []
    },
    {
      "cell_type": "code",
      "source": [
        "sns.histplot(df['age'], kde=True, bins=20, color=\"purple\")\n",
        "plt.title('Age Distributionn')\n",
        "plt.xlabel(\"Age\")\n",
        "plt.ylabel(\"Frequency\")\n",
        "plt.show()"
      ],
      "metadata": {
        "colab": {
          "base_uri": "https://localhost:8080/",
          "height": 472
        },
        "id": "78ydvWur6Ams",
        "outputId": "b9d538dc-1af5-4116-bdaa-aad8c5387911"
      },
      "execution_count": 16,
      "outputs": [
        {
          "output_type": "display_data",
          "data": {
            "text/plain": [
              "<Figure size 640x480 with 1 Axes>"
            ],
            "image/png": "[encoded data removed]"
          },
          "metadata": {}
        }
      ]
    },
    {
      "cell_type": "code",
      "source": [
        "# Scatter plot: Age vs Fare\n",
        "plt.scatter(df[\"age\"], df[\"fare\"], alpha=0.5, color='green')\n",
        "plt.title(\"Age vs fare\")\n",
        "plt.xlabel(\"Age\")\n",
        "plt.ylabel(\"Fare\")\n",
        "plt.show()"
      ],
      "metadata": {
        "colab": {
          "base_uri": "https://localhost:8080/",
          "height": 472
        },
        "id": "9lI8kvNJ6yIr",
        "outputId": "3d9a130a-e4de-4ede-8f50-eb56dec455ba"
      },
      "execution_count": 17,
      "outputs": [
        {
          "output_type": "display_data",
          "data": {
            "text/plain": [
              "<Figure size 640x480 with 1 Axes>"
            ],
            "image/png": "[encoded data removed]"
          },
          "metadata": {}
        }
      ]
    },
    {
      "cell_type": "markdown",
      "source": [
        "### Task3: Identify and Interpret Patterns or Anomalies"
      ],
      "metadata": {
        "id": "gBIjuNi_7mVf"
      }
    },
    {
      "cell_type": "code",
      "source": [
        "# we can visualization and summary statistics to identify these patterns\n",
        "# Look for anomalies such as unusually high fares or missing data trends"
      ],
      "metadata": {
        "id": "WnCYt3bg7ccv"
      },
      "execution_count": null,
      "outputs": []
    },
    {
      "cell_type": "markdown",
      "source": [
        "### Task4: Summarize Findings in a Report"
      ],
      "metadata": {
        "id": "Qi4l4NNd8hSw"
      }
    },
    {
      "cell_type": "markdown",
      "source": [
        "## Titanic Dataset EDA Report"
      ],
      "metadata": {
        "id": "f39BQIUG8weq"
      }
    },
    {
      "cell_type": "markdown",
      "source": [
        "## 1. Overview"
      ],
      "metadata": {
        "id": "Mwm_YD9G88Kn"
      }
    },
    {
      "cell_type": "markdown",
      "source": [
        "### - Dataset Contains 891 Rows and 12 Columns\n"
      ],
      "metadata": {
        "id": "bmvX-U5Z8-0t"
      }
    },
    {
      "cell_type": "markdown",
      "source": [
        "### Missing values handled for Age (filled with median) and Embarked (Filled with mode)"
      ],
      "metadata": {
        "id": "dW-jHVil9Wv4"
      }
    },
    {
      "cell_type": "code",
      "source": [
        "##"
      ],
      "metadata": {
        "id": "LMN3w2Kx8mBZ"
      },
      "execution_count": null,
      "outputs": []
    },
    {
      "cell_type": "markdown",
      "source": [
        "## Key Insights:"
      ],
      "metadata": {
        "id": "WZ-S9V8E9qyo"
      }
    },
    {
      "cell_type": "markdown",
      "source": [
        "### -Survival Rates are highest for first_class Passengers(62%) and lowest for third_class Customers(24%)"
      ],
      "metadata": {
        "id": "lx0wWoQj9zcv"
      }
    },
    {
      "cell_type": "markdown",
      "source": [
        "### -Majority of Passengers are aged between 20-40 years"
      ],
      "metadata": {
        "id": "y2UvdiOT-JsP"
      }
    },
    {
      "cell_type": "markdown",
      "source": [
        "### -A positive correlation exists between fare and survival"
      ],
      "metadata": {
        "id": "Yc-mr4L--XIH"
      }
    },
    {
      "cell_type": "markdown",
      "source": [
        "## Visual Insights"
      ],
      "metadata": {
        "id": "bFhyQtUG-nOZ"
      }
    },
    {
      "cell_type": "markdown",
      "source": [
        "### -Screenshots"
      ],
      "metadata": {
        "id": "rMqrHPZl-sTQ"
      }
    },
    {
      "cell_type": "code",
      "source": [],
      "metadata": {
        "id": "0IQ1SGY49toH"
      },
      "execution_count": null,
      "outputs": []
    }
  ]
}