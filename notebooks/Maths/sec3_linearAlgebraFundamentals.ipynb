{
  "nbformat": 4,
  "nbformat_minor": 0,
  "metadata": {
    "colab": {
      "provenance": [],
      "authorship_tag": "ABX9TyPEntqI8+BWuPx5++r4hr6X",
      "include_colab_link": true
    },
    "kernelspec": {
      "name": "python3",
      "display_name": "Python 3"
    },
    "language_info": {
      "name": "python"
    }
  },
  "cells": [
    {
      "cell_type": "markdown",
      "metadata": {
        "id": "view-in-github",
        "colab_type": "text"
      },
      "source": [
        "<a href=\"https://colab.research.google.com/github/Adnan-Imam0/datascience_and_ai/blob/main/notebooks/Maths/sec3_linearAlgebraFundamentals.ipynb\" target=\"_parent\"><img src=\"https://colab.research.google.com/assets/colab-badge.svg\" alt=\"Open In Colab\"/></a>"
      ]
    },
    {
      "cell_type": "markdown",
      "source": [
        "# Linear Algebra Fundamentals"
      ],
      "metadata": {
        "id": "hjZcqK3BvIkW"
      }
    },
    {
      "cell_type": "code",
      "execution_count": 40,
      "metadata": {
        "id": "p5yvLympuL67"
      },
      "outputs": [],
      "source": [
        "import numpy as np"
      ]
    },
    {
      "cell_type": "markdown",
      "source": [
        "## Create Vectors and Matrices using Numpy"
      ],
      "metadata": {
        "id": "vOZqqEUHvROY"
      }
    },
    {
      "cell_type": "markdown",
      "source": [],
      "metadata": {
        "id": "E5jYvmGrvGJq"
      }
    },
    {
      "cell_type": "code",
      "source": [
        "# create matrixes\n",
        "A = np.array([[1,2], [3,4]])\n",
        "B = np.array([[5,6], [7,8]])"
      ],
      "metadata": {
        "id": "hLVBB6m7uZ8x"
      },
      "execution_count": 41,
      "outputs": []
    },
    {
      "cell_type": "code",
      "source": [
        "# Addition\n",
        "print(\"Addintion: \\n\", A + B)"
      ],
      "metadata": {
        "colab": {
          "base_uri": "https://localhost:8080/"
        },
        "id": "GF44DNvHugV7",
        "outputId": "a0c46093-08ae-4158-b401-8dc2229cf9a6"
      },
      "execution_count": 42,
      "outputs": [
        {
          "output_type": "stream",
          "name": "stdout",
          "text": [
            "Addintion: \n",
            " [[ 6  8]\n",
            " [10 12]]\n"
          ]
        }
      ]
    },
    {
      "cell_type": "code",
      "source": [
        "# Subtraction\n",
        "print(\"Subtraction: \\n\", B-A)"
      ],
      "metadata": {
        "colab": {
          "base_uri": "https://localhost:8080/"
        },
        "id": "uTvHfmQxuzsQ",
        "outputId": "d3556e83-f750-4d34-dcd1-9d0f51044848"
      },
      "execution_count": 43,
      "outputs": [
        {
          "output_type": "stream",
          "name": "stdout",
          "text": [
            "Subtraction: \n",
            " [[4 4]\n",
            " [4 4]]\n"
          ]
        }
      ]
    },
    {
      "cell_type": "code",
      "source": [
        "# Scalar Multiplications\n",
        "print(\"Scalar Multiplication: \\n\", 2*A)"
      ],
      "metadata": {
        "colab": {
          "base_uri": "https://localhost:8080/"
        },
        "id": "vk2ogk7qu8PU",
        "outputId": "dc0e74ff-6703-4e9a-bf9f-1bd7a81bb893"
      },
      "execution_count": 44,
      "outputs": [
        {
          "output_type": "stream",
          "name": "stdout",
          "text": [
            "Scalar Multiplication: \n",
            " [[2 4]\n",
            " [6 8]]\n"
          ]
        }
      ]
    },
    {
      "cell_type": "markdown",
      "source": [
        "## Implement Matrix-vector Multiplications"
      ],
      "metadata": {
        "id": "sdSUMymYvaYp"
      }
    },
    {
      "cell_type": "code",
      "source": [
        "# matrix and vector creation\n",
        "M = np.array([[1,2,3], [4,5, 6], [7,8,9]])\n",
        "v = np.array([1, 0, -1])"
      ],
      "metadata": {
        "id": "xDR1BPQ9vBbA"
      },
      "execution_count": 45,
      "outputs": []
    },
    {
      "cell_type": "code",
      "source": [
        "# matrix-vector multiplications\n",
        "result = np.dot(M, v)\n",
        "print(result)"
      ],
      "metadata": {
        "colab": {
          "base_uri": "https://localhost:8080/"
        },
        "id": "ld94AqE7wD2H",
        "outputId": "12ca9bdb-4fa8-4a32-f810-4c002fd4861b"
      },
      "execution_count": 46,
      "outputs": [
        {
          "output_type": "stream",
          "name": "stdout",
          "text": [
            "[-2 -2 -2]\n"
          ]
        }
      ]
    },
    {
      "cell_type": "markdown",
      "source": [
        "## Explore Special Matrices"
      ],
      "metadata": {
        "id": "ZRtVw-qhwTm4"
      }
    },
    {
      "cell_type": "code",
      "source": [
        "# Identity Matrix\n",
        "I = np.eye(3)\n",
        "A = np.array([[1,2,3], [4,5,6], [7,8,9]])\n",
        "print(\"A X I \\n\", np.dot(A , I))"
      ],
      "metadata": {
        "colab": {
          "base_uri": "https://localhost:8080/"
        },
        "id": "2DCX4b18wJrx",
        "outputId": "ecdef2c6-39b8-4e45-e093-4dd76df123ae"
      },
      "execution_count": 47,
      "outputs": [
        {
          "output_type": "stream",
          "name": "stdout",
          "text": [
            "A X I \n",
            " [[1. 2. 3.]\n",
            " [4. 5. 6.]\n",
            " [7. 8. 9.]]\n"
          ]
        }
      ]
    },
    {
      "cell_type": "code",
      "source": [
        "# Diagonal and Zero Matrix\n",
        "D = np.diag([1,2,3])\n",
        "Z = np.zeros((3,3))\n",
        "print(\"Diagonal \\n\", D)\n",
        "print(\"Zero Matrix \\n\", Z)\n"
      ],
      "metadata": {
        "colab": {
          "base_uri": "https://localhost:8080/"
        },
        "id": "jJX9EakMxAap",
        "outputId": "b5e82dd3-f715-4290-8427-4e26b9ab75d4"
      },
      "execution_count": 48,
      "outputs": [
        {
          "output_type": "stream",
          "name": "stdout",
          "text": [
            "Diagonal \n",
            " [[1 0 0]\n",
            " [0 2 0]\n",
            " [0 0 3]]\n",
            "Zero Matrix \n",
            " [[0. 0. 0.]\n",
            " [0. 0. 0.]\n",
            " [0. 0. 0.]]\n"
          ]
        }
      ]
    },
    {
      "cell_type": "code",
      "source": [],
      "metadata": {
        "id": "5uV0mVQixolq"
      },
      "execution_count": 48,
      "outputs": []
    },
    {
      "cell_type": "markdown",
      "metadata": {
        "id": "484df902"
      },
      "source": [
        "## Calculate the Determinant and Inverse"
      ]
    },
    {
      "cell_type": "code",
      "metadata": {
        "colab": {
          "base_uri": "https://localhost:8080/"
        },
        "id": "a42d2b0b",
        "outputId": "28d3f4b6-8f34-4fcf-d964-0924b4fca2df"
      },
      "source": [
        "# Define a 2x2 matrix\n",
        "matrix_2x2 = np.array([[4, 7], [2, 6]])\n",
        "\n",
        "# Calculate the determinant\n",
        "determinant = np.linalg.det(matrix_2x2)\n",
        "print(\"Determinant of the 2x2 matrix: \\n\", determinant)\n",
        "\n",
        "# Calculate the inverse (if the determinant is non-zero)\n",
        "try:\n",
        "    inverse_matrix = np.linalg.inv(matrix_2x2)\n",
        "    print(\"Inverse of the 2x2 matrix: \\n\", inverse_matrix)\n",
        "except np.linalg.LinAlgError:\n",
        "    print(\"The matrix is singular and does not have an inverse.\")"
      ],
      "execution_count": 49,
      "outputs": [
        {
          "output_type": "stream",
          "name": "stdout",
          "text": [
            "Determinant of the 2x2 matrix: \n",
            " 10.000000000000002\n",
            "Inverse of the 2x2 matrix: \n",
            " [[ 0.6 -0.7]\n",
            " [-0.2  0.4]]\n"
          ]
        }
      ]
    },
    {
      "cell_type": "markdown",
      "metadata": {
        "id": "5fb27c9f"
      },
      "source": [
        "# Task\n",
        "Compute the determinant and inverse of a 2x2 matrix using NumPy, verify properties of matrix multiplication using NumPy, and explain the verified properties."
      ]
    },
    {
      "cell_type": "markdown",
      "metadata": {
        "id": "f07d7c55"
      },
      "source": [
        "## Define matrices\n",
        "\n",
        "### Subtask:\n",
        "Create suitable matrices in a code cell to demonstrate the properties of matrix multiplication.\n"
      ]
    },
    {
      "cell_type": "markdown",
      "metadata": {
        "id": "2f0b9f76"
      },
      "source": [
        "**Reasoning**:\n",
        "The subtask requires creating compatible matrices and a scalar for demonstrating matrix multiplication properties. This can be done by defining NumPy arrays for the matrices and a Python variable for the scalar in a single code cell.\n",
        "\n"
      ]
    },
    {
      "cell_type": "code",
      "metadata": {
        "id": "cab01bda"
      },
      "source": [
        "# Define three compatible matrices for multiplication\n",
        "A = np.array([[1, 2], [3, 4]])\n",
        "B = np.array([[5, 6], [7, 8]])\n",
        "C = np.array([[9, 10], [11, 12]])\n",
        "\n",
        "# Define a scalar value\n",
        "k = 2"
      ],
      "execution_count": 50,
      "outputs": []
    },
    {
      "cell_type": "markdown",
      "metadata": {
        "id": "3ee5c4f8"
      },
      "source": [
        "## Verify associativity\n",
        "\n",
        "### Subtask:\n",
        "Write code to show that for matrices A, B, and C, (AB)C = A(BC).\n"
      ]
    },
    {
      "cell_type": "markdown",
      "metadata": {
        "id": "7f16a1c2"
      },
      "source": [
        "**Reasoning**:\n",
        "Write code to calculate (AB)C and A(BC) and compare them.\n",
        "\n"
      ]
    },
    {
      "cell_type": "code",
      "metadata": {
        "colab": {
          "base_uri": "https://localhost:8080/"
        },
        "id": "ca113182",
        "outputId": "1fb2946c-9d0c-4600-ef59-affefba5709e"
      },
      "source": [
        "# Calculate (AB)C\n",
        "left_side = np.dot(np.dot(A, B), C)\n",
        "\n",
        "# Calculate A(BC)\n",
        "right_side = np.dot(A, np.dot(B, C))\n",
        "\n",
        "# Print both sides\n",
        "print(\"(AB)C:\\n\", left_side)\n",
        "print(\"\\nA(BC):\\n\", right_side)\n",
        "\n",
        "# Compare the results\n",
        "are_equal = np.array_equal(left_side, right_side)\n",
        "print(\"\\nAre (AB)C and A(BC) equal?\", are_equal)"
      ],
      "execution_count": 51,
      "outputs": [
        {
          "output_type": "stream",
          "name": "stdout",
          "text": [
            "(AB)C:\n",
            " [[ 413  454]\n",
            " [ 937 1030]]\n",
            "\n",
            "A(BC):\n",
            " [[ 413  454]\n",
            " [ 937 1030]]\n",
            "\n",
            "Are (AB)C and A(BC) equal? True\n"
          ]
        }
      ]
    },
    {
      "cell_type": "markdown",
      "metadata": {
        "id": "4ef4a882"
      },
      "source": [
        "## Verify distributivity\n",
        "\n",
        "### Subtask:\n",
        "Write code to show that for matrices A, B, and C, A(B + C) = AB + AC and (A + B)C = AC + BC.\n"
      ]
    },
    {
      "cell_type": "markdown",
      "metadata": {
        "id": "71e2619d"
      },
      "source": [
        "**Reasoning**:\n",
        "Calculate and compare both sides of the distributive properties using the previously defined matrices A, B, and C.\n",
        "\n"
      ]
    },
    {
      "cell_type": "code",
      "metadata": {
        "colab": {
          "base_uri": "https://localhost:8080/"
        },
        "id": "ca8cbb97",
        "outputId": "bbca3e34-6c37-40c2-c0bd-58be75c05129"
      },
      "source": [
        "# Calculate A(B + C)\n",
        "left_dist_1 = np.dot(A, B + C)\n",
        "\n",
        "# Calculate AB + AC\n",
        "right_dist_1 = np.dot(A, B) + np.dot(A, C)\n",
        "\n",
        "# Print both sides of the first distributive property\n",
        "print(\"A(B + C):\\n\", left_dist_1)\n",
        "print(\"\\nAB + AC:\\n\", right_dist_1)\n",
        "\n",
        "# Compare the results of the first distributive property\n",
        "are_equal_dist_1 = np.array_equal(left_dist_1, right_dist_1)\n",
        "print(\"\\nAre A(B + C) and AB + AC equal?\", are_equal_dist_1)\n",
        "\n",
        "# Calculate (A + B)C\n",
        "left_dist_2 = np.dot(A + B, C)\n",
        "\n",
        "# Calculate AC + BC\n",
        "right_dist_2 = np.dot(A, C) + np.dot(B, C)\n",
        "\n",
        "# Print both sides of the second distributive property\n",
        "print(\"\\n(A + B)C:\\n\", left_dist_2)\n",
        "print(\"\\nAC + BC:\\n\", right_dist_2)\n",
        "\n",
        "# Compare the results of the second distributive property\n",
        "are_equal_dist_2 = np.array_equal(left_dist_2, right_dist_2)\n",
        "print(\"\\nAre (A + B)C and AC + BC equal?\", are_equal_dist_2)"
      ],
      "execution_count": 52,
      "outputs": [
        {
          "output_type": "stream",
          "name": "stdout",
          "text": [
            "A(B + C):\n",
            " [[ 50  56]\n",
            " [114 128]]\n",
            "\n",
            "AB + AC:\n",
            " [[ 50  56]\n",
            " [114 128]]\n",
            "\n",
            "Are A(B + C) and AB + AC equal? True\n",
            "\n",
            "(A + B)C:\n",
            " [[142 156]\n",
            " [222 244]]\n",
            "\n",
            "AC + BC:\n",
            " [[142 156]\n",
            " [222 244]]\n",
            "\n",
            "Are (A + B)C and AC + BC equal? True\n"
          ]
        }
      ]
    },
    {
      "cell_type": "markdown",
      "metadata": {
        "id": "cbcdd48d"
      },
      "source": [
        "## Verify scalar multiplication property\n",
        "\n",
        "### Subtask:\n",
        "Write code to show that for a scalar k and matrices A and B, k(AB) = (kA)B = A(kB).\n"
      ]
    },
    {
      "cell_type": "markdown",
      "metadata": {
        "id": "7406158d"
      },
      "source": [
        "**Reasoning**:\n",
        "The instructions require calculating and comparing three expressions involving scalar and matrix multiplication. This can be done in a single code block using NumPy's broadcasting and matrix multiplication capabilities, followed by printing and comparing the results as requested.\n",
        "\n"
      ]
    },
    {
      "cell_type": "code",
      "metadata": {
        "colab": {
          "base_uri": "https://localhost:8080/"
        },
        "id": "82e80335",
        "outputId": "ea0ca8aa-ad74-4167-98dc-d3d3cc6a22a1"
      },
      "source": [
        "# Calculate k * (A @ B)\n",
        "result_k_AB = k * np.dot(A, B)\n",
        "print(\"k * (A @ B):\\n\", result_k_AB)\n",
        "\n",
        "# Calculate (k * A) @ B\n",
        "result_kA_B = np.dot(k * A, B)\n",
        "print(\"\\n(k * A) @ B:\\n\", result_kA_B)\n",
        "\n",
        "# Calculate A @ (k * B)\n",
        "result_A_kB = np.dot(A, k * B)\n",
        "print(\"\\nA @ (k * B):\\n\", result_A_kB)\n",
        "\n",
        "# Compare the results of k * (A @ B) and (k * A) @ B\n",
        "are_equal_1 = np.array_equal(result_k_AB, result_kA_B)\n",
        "print(\"\\nAre k * (A @ B) and (k * A) @ B equal?\", are_equal_1)\n",
        "\n",
        "# Compare the results of k * (A @ B) and A @ (k * B)\n",
        "are_equal_2 = np.array_equal(result_k_AB, result_A_kB)\n",
        "print(\"\\nAre k * (A @ B) and A @ (k * B) equal?\", are_equal_2)"
      ],
      "execution_count": 53,
      "outputs": [
        {
          "output_type": "stream",
          "name": "stdout",
          "text": [
            "k * (A @ B):\n",
            " [[ 38  44]\n",
            " [ 86 100]]\n",
            "\n",
            "(k * A) @ B:\n",
            " [[ 38  44]\n",
            " [ 86 100]]\n",
            "\n",
            "A @ (k * B):\n",
            " [[ 38  44]\n",
            " [ 86 100]]\n",
            "\n",
            "Are k * (A @ B) and (k * A) @ B equal? True\n",
            "\n",
            "Are k * (A @ B) and A @ (k * B) equal? True\n"
          ]
        }
      ]
    },
    {
      "cell_type": "markdown",
      "metadata": {
        "id": "f0fdf415"
      },
      "source": [
        "## Verify identity property\n",
        "\n",
        "### Subtask:\n",
        "Write code to show that for a matrix A and identity matrix I, AI = IA = A.\n"
      ]
    },
    {
      "cell_type": "markdown",
      "metadata": {
        "id": "7e62a195"
      },
      "source": [
        "**Reasoning**:\n",
        "Write code to create a 2x2 identity matrix, perform matrix multiplication with matrix A, print the results, and verify if the results are equal to A.\n",
        "\n"
      ]
    },
    {
      "cell_type": "code",
      "metadata": {
        "colab": {
          "base_uri": "https://localhost:8080/"
        },
        "id": "80d69250",
        "outputId": "21c9d3f1-ca79-4944-d6af-4bd7e401f3ad"
      },
      "source": [
        "# Create a 2x2 identity matrix\n",
        "I = np.eye(2)\n",
        "print(\"Identity Matrix (I):\\n\", I)\n",
        "\n",
        "# Calculate A * I\n",
        "result_AI = np.dot(A, I)\n",
        "print(\"\\nA * I:\\n\", result_AI)\n",
        "\n",
        "# Calculate I * A\n",
        "result_IA = np.dot(I, A)\n",
        "print(\"\\nI * A:\\n\", result_IA)\n",
        "\n",
        "# Verify AI = A\n",
        "are_equal_AI_A = np.array_equal(result_AI, A)\n",
        "print(\"\\nIs A * I equal to A?\", are_equal_AI_A)\n",
        "\n",
        "# Verify IA = A\n",
        "are_equal_IA_A = np.array_equal(result_IA, A)\n",
        "print(\"Is I * A equal to A?\", are_equal_IA_A)"
      ],
      "execution_count": 54,
      "outputs": [
        {
          "output_type": "stream",
          "name": "stdout",
          "text": [
            "Identity Matrix (I):\n",
            " [[1. 0.]\n",
            " [0. 1.]]\n",
            "\n",
            "A * I:\n",
            " [[1. 2.]\n",
            " [3. 4.]]\n",
            "\n",
            "I * A:\n",
            " [[1. 2.]\n",
            " [3. 4.]]\n",
            "\n",
            "Is A * I equal to A? True\n",
            "Is I * A equal to A? True\n"
          ]
        }
      ]
    },
    {
      "cell_type": "markdown",
      "metadata": {
        "id": "57b3e2ee"
      },
      "source": [
        "## Explain properties\n",
        "\n",
        "### Subtask:\n",
        "Provide a markdown cell explaining each of the verified properties of matrix multiplication.\n"
      ]
    },
    {
      "cell_type": "markdown",
      "metadata": {
        "id": "6d084fcb"
      },
      "source": [
        "**Reasoning**:\n",
        "Create a markdown cell to explain the verified properties of matrix multiplication.\n",
        "\n"
      ]
    },
    {
      "cell_type": "markdown",
      "metadata": {
        "id": "872f1fd9"
      },
      "source": [
        "**Reasoning**:\n",
        "The previous command failed because markdown content was placed inside a code block. I need to create a markdown cell and put the explanation there.\n",
        "\n"
      ]
    },
    {
      "cell_type": "code",
      "metadata": {
        "id": "hKwZqxG7zcLQ"
      },
      "source": [
        "# This is a placeholder cell to ensure the markdown cell is created next.\n",
        "# The actual markdown content will be in the following markdown cell.\n",
        "pass"
      ],
      "execution_count": 55,
      "outputs": []
    },
    {
      "cell_type": "markdown",
      "metadata": {
        "id": "dc14963a"
      },
      "source": [
        "**Reasoning**:\n",
        "Create a markdown cell with the explanation of the matrix multiplication properties as requested in the subtask instructions.\n",
        "\n"
      ]
    },
    {
      "cell_type": "code",
      "metadata": {
        "colab": {
          "base_uri": "https://localhost:8080/",
          "height": 451
        },
        "id": "68120d77",
        "outputId": "2fadfbcf-5d0d-4409-dac6-d41c3e03ac8a"
      },
      "source": [
        "%%markdown\n",
        "## Properties of Matrix Multiplication\n",
        "\n",
        "Through the code executed, we have empirically verified several key properties of matrix multiplication using NumPy:\n",
        "\n",
        "### Associativity: (AB)C = A(BC)\n",
        "This property states that when multiplying three or more matrices, the grouping of the matrices does not affect the final product. As demonstrated by the code, multiplying the result of AB by C yields the same matrix as multiplying A by the result of BC.\n",
        "\n",
        "### Distributivity: A(B + C) = AB + AC and (A + B)C = AC + BC\n",
        "Matrix multiplication is distributive over matrix addition. The first property, A(B + C) = AB + AC, shows that multiplying a matrix A by the sum of matrices B and C is equivalent to adding the products of A and B, and A and C. Similarly, the second property, (A + B)C = AC + BC, shows that multiplying the sum of matrices A and B by matrix C is equivalent to adding the products of A and C, and B and C. Our code has shown that both of these equalities hold true.\n",
        "\n",
        "### Scalar Multiplication: k(AB) = (kA)B = A(kB)\n",
        "This property illustrates how scalar multiplication interacts with matrix multiplication. Multiplying a scalar k by the product of matrices A and B gives the same result as multiplying the scalar k by matrix A first and then multiplying by matrix B, or multiplying matrix A by the scalar k times matrix B. The code execution confirmed that all three expressions result in the same matrix.\n",
        "\n",
        "### Identity Property: AI = IA = A\n",
        "The identity matrix, denoted by I, plays a role similar to the number 1 in scalar multiplication. When a matrix A is multiplied by the identity matrix I (of compatible dimensions), the result is the original matrix A, regardless of the order of multiplication (AI or IA). Our code successfully demonstrated that multiplying matrix A by the identity matrix I in either order results in matrix A itself."
      ],
      "execution_count": 56,
      "outputs": [
        {
          "output_type": "display_data",
          "data": {
            "text/plain": [
              "<IPython.core.display.Markdown object>"
            ],
            "text/markdown": "## Properties of Matrix Multiplication\n\nThrough the code executed, we have empirically verified several key properties of matrix multiplication using NumPy:\n\n### Associativity: (AB)C = A(BC)\nThis property states that when multiplying three or more matrices, the grouping of the matrices does not affect the final product. As demonstrated by the code, multiplying the result of AB by C yields the same matrix as multiplying A by the result of BC.\n\n### Distributivity: A(B + C) = AB + AC and (A + B)C = AC + BC\nMatrix multiplication is distributive over matrix addition. The first property, A(B + C) = AB + AC, shows that multiplying a matrix A by the sum of matrices B and C is equivalent to adding the products of A and B, and A and C. Similarly, the second property, (A + B)C = AC + BC, shows that multiplying the sum of matrices A and B by matrix C is equivalent to adding the products of A and C, and B and C. Our code has shown that both of these equalities hold true.\n\n### Scalar Multiplication: k(AB) = (kA)B = A(kB)\nThis property illustrates how scalar multiplication interacts with matrix multiplication. Multiplying a scalar k by the product of matrices A and B gives the same result as multiplying the scalar k by matrix A first and then multiplying by matrix B, or multiplying matrix A by the scalar k times matrix B. The code execution confirmed that all three expressions result in the same matrix.\n\n### Identity Property: AI = IA = A\nThe identity matrix, denoted by I, plays a role similar to the number 1 in scalar multiplication. When a matrix A is multiplied by the identity matrix I (of compatible dimensions), the result is the original matrix A, regardless of the order of multiplication (AI or IA). Our code successfully demonstrated that multiplying matrix A by the identity matrix I in either order results in matrix A itself.\n"
          },
          "metadata": {}
        }
      ]
    },
    {
      "cell_type": "markdown",
      "metadata": {
        "id": "b66f8a9c"
      },
      "source": [
        "## Summary:\n",
        "\n",
        "### Data Analysis Key Findings\n",
        "\n",
        "*   The associativity property of matrix multiplication, (AB)C = A(BC), was successfully verified using NumPy for the given matrices A, B, and C.\n",
        "*   Both distributive properties of matrix multiplication over addition, A(B + C) = AB + AC and (A + B)C = AC + BC, were confirmed to hold true for the given matrices.\n",
        "*   The scalar multiplication property, k(AB) = (kA)B = A(kB), was demonstrated to be valid for the specified scalar k and matrices A and B.\n",
        "*   The identity property of matrix multiplication, AI = IA = A, was verified for the given matrix A and the corresponding identity matrix I.\n",
        "*   A markdown explanation detailing each verified property (Associativity, Distributivity, Scalar Multiplication, and Identity Property) was successfully generated.\n",
        "\n",
        "### Insights or Next Steps\n",
        "\n",
        "*   These verified properties are fundamental to matrix algebra and linear transformations, highlighting how matrix operations behave similarly to scalar arithmetic in some aspects, while also having unique characteristics (like non-commutativity in general).\n",
        "*   Future steps could involve exploring other matrix properties, such as the non-commutativity of matrix multiplication (AB != BA in general) or the properties of the transpose or inverse of a matrix.\n"
      ]
    },
    {
      "cell_type": "markdown",
      "metadata": {
        "id": "6794839c"
      },
      "source": [
        "## Create a Block Diagonal Matrix"
      ]
    },
    {
      "cell_type": "code",
      "metadata": {
        "colab": {
          "base_uri": "https://localhost:8080/"
        },
        "id": "793f5ad8",
        "outputId": "ec7960b1-23bf-4050-8c0f-9e3a178b257e"
      },
      "source": [
        "from scipy.linalg import block_diag\n",
        "import numpy as np\n",
        "\n",
        "# Define some matrices (blocks)\n",
        "A = np.array([[1, 2], [3, 4]])\n",
        "B = np.array([[5, 6, 7], [8, 9, 10], [11, 12, 13]])\n",
        "C = np.array([[14]])\n",
        "\n",
        "# Create the block diagonal matrix\n",
        "block_diagonal_matrix = block_diag(A, B, C)\n",
        "\n",
        "# Print the resulting matrix\n",
        "print(\"Block Diagonal Matrix:\\n\", block_diagonal_matrix)"
      ],
      "execution_count": 57,
      "outputs": [
        {
          "output_type": "stream",
          "name": "stdout",
          "text": [
            "Block Diagonal Matrix:\n",
            " [[ 1  2  0  0  0  0]\n",
            " [ 3  4  0  0  0  0]\n",
            " [ 0  0  5  6  7  0]\n",
            " [ 0  0  8  9 10  0]\n",
            " [ 0  0 11 12 13  0]\n",
            " [ 0  0  0  0  0 14]]\n"
          ]
        }
      ]
    },
    {
      "cell_type": "code",
      "source": [],
      "metadata": {
        "id": "RxVkV5YA0WpZ"
      },
      "execution_count": null,
      "outputs": []
    }
  ]
}